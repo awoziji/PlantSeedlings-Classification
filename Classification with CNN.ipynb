{
 "cells": [
  {
   "cell_type": "code",
   "execution_count": 87,
   "metadata": {},
   "outputs": [],
   "source": [
    "# Import Tensorflow for keras backend and keras\n",
    "import tensorflow as tf\n",
    "from tensorflow import keras\n",
    "\n",
    "# Helper libraries\n",
    "from PIL import Image\n",
    "import numpy as np\n",
    "import matplotlib.pyplot as plt\n",
    "import cv2\n",
    "import glob"
   ]
  },
  {
   "cell_type": "code",
   "execution_count": 88,
   "metadata": {},
   "outputs": [],
   "source": [
    "import glob\n",
    "x_train = []\n",
    "y_train = []\n",
    "x_test = []\n",
    "y_test = []\n",
    "for i in range(12):\n",
    "    for filename in glob.glob('Dataset/Train/'+str(i)+'/*.png'):\n",
    "        im=cv2.imread(filename)[...,::-1]\n",
    "        im = cv2.resize(im, (128, 128), interpolation = cv2.INTER_AREA) # resize to 28 * 28 pixel size\n",
    "        x_train.append(im)\n",
    "        y_train.append(i)\n",
    "for filename in glob.glob('Dataset/Test/*.png'):\n",
    "        im=cv2.imread(filename)[...,::-1]\n",
    "        x_test.append(im)"
   ]
  },
  {
   "cell_type": "code",
   "execution_count": 89,
   "metadata": {},
   "outputs": [],
   "source": [
    "x_train = np.array(x_train) / 255\n",
    "x_test = np.array(x_test) / 255\n",
    "y_train = np.array(y_train)"
   ]
  },
  {
   "cell_type": "code",
   "execution_count": 90,
   "metadata": {},
   "outputs": [
    {
     "name": "stdout",
     "output_type": "stream",
     "text": [
      "_________________________________________________________________\n",
      "Layer (type)                 Output Shape              Param #   \n",
      "=================================================================\n",
      "conv2d_27 (Conv2D)           (None, 126, 126, 128)     3584      \n",
      "_________________________________________________________________\n",
      "max_pooling2d_27 (MaxPooling (None, 63, 63, 128)       0         \n",
      "_________________________________________________________________\n",
      "conv2d_28 (Conv2D)           (None, 61, 61, 128)       147584    \n",
      "_________________________________________________________________\n",
      "max_pooling2d_28 (MaxPooling (None, 30, 30, 128)       0         \n",
      "_________________________________________________________________\n",
      "conv2d_29 (Conv2D)           (None, 28, 28, 128)       147584    \n",
      "_________________________________________________________________\n",
      "max_pooling2d_29 (MaxPooling (None, 14, 14, 128)       0         \n",
      "_________________________________________________________________\n",
      "flatten_9 (Flatten)          (None, 25088)             0         \n",
      "_________________________________________________________________\n",
      "dense_13 (Dense)             (None, 12)                301068    \n",
      "=================================================================\n",
      "Total params: 599,820\n",
      "Trainable params: 599,820\n",
      "Non-trainable params: 0\n",
      "_________________________________________________________________\n"
     ]
    }
   ],
   "source": [
    "model = keras.Sequential([\n",
    "    keras.layers.Conv2D(128, 3, activation='relu', input_shape=(128,128,3)),\n",
    "    keras.layers.MaxPooling2D(),\n",
    "    keras.layers.Conv2D(128, 3, activation='relu'),\n",
    "    keras.layers.MaxPooling2D(),\n",
    "    keras.layers.Conv2D(128, 3, activation='relu'),\n",
    "    keras.layers.MaxPooling2D(),\n",
    "    keras.layers.Flatten(),\n",
    "    keras.layers.Dense(12, activation='softmax')\n",
    "])\n",
    "model.summary()"
   ]
  },
  {
   "cell_type": "code",
   "execution_count": 91,
   "metadata": {},
   "outputs": [],
   "source": [
    "model.compile(loss='sparse_categorical_crossentropy', optimizer='adam', metrics=['accuracy'])"
   ]
  },
  {
   "cell_type": "code",
   "execution_count": null,
   "metadata": {},
   "outputs": [
    {
     "name": "stdout",
     "output_type": "stream",
     "text": [
      "Train on 3562 samples, validate on 1188 samples\n",
      "Epoch 1/100\n",
      "3562/3562 [==============================] - 7s 2ms/sample - loss: 1.7763 - acc: 0.3577 - val_loss: 12.2226 - val_acc: 0.0396\n",
      "Epoch 2/100\n",
      "3562/3562 [==============================] - 7s 2ms/sample - loss: 1.1292 - acc: 0.6044 - val_loss: 14.6041 - val_acc: 0.0438\n",
      "Epoch 3/100\n",
      "3562/3562 [==============================] - 7s 2ms/sample - loss: 0.8228 - acc: 0.7069 - val_loss: 14.8777 - val_acc: 0.0429\n",
      "Epoch 4/100\n",
      "3562/3562 [==============================] - 7s 2ms/sample - loss: 0.6485 - acc: 0.7743 - val_loss: 15.0709 - val_acc: 0.0480\n",
      "Epoch 5/100\n",
      "3562/3562 [==============================] - 7s 2ms/sample - loss: 0.5126 - acc: 0.8198 - val_loss: 15.0817 - val_acc: 0.0497\n",
      "Epoch 6/100\n",
      "3562/3562 [==============================] - 7s 2ms/sample - loss: 0.4285 - acc: 0.8490 - val_loss: 15.0736 - val_acc: 0.0505\n",
      "Epoch 7/100\n",
      "3562/3562 [==============================] - 7s 2ms/sample - loss: 0.3878 - acc: 0.8608 - val_loss: 15.1479 - val_acc: 0.0396\n",
      "Epoch 8/100\n",
      "3562/3562 [==============================] - 7s 2ms/sample - loss: 0.2872 - acc: 0.8964 - val_loss: 15.1485 - val_acc: 0.0463\n",
      "Epoch 9/100\n",
      "3562/3562 [==============================] - 7s 2ms/sample - loss: 0.2651 - acc: 0.9088 - val_loss: 15.1360 - val_acc: 0.0471\n",
      "Epoch 10/100\n",
      "3562/3562 [==============================] - 7s 2ms/sample - loss: 0.2103 - acc: 0.9301 - val_loss: 15.1405 - val_acc: 0.0480\n",
      "Epoch 11/100\n",
      "3562/3562 [==============================] - 7s 2ms/sample - loss: 0.1745 - acc: 0.9374 - val_loss: 15.1605 - val_acc: 0.0522\n",
      "Epoch 12/100\n",
      "3562/3562 [==============================] - 7s 2ms/sample - loss: 0.1407 - acc: 0.9537 - val_loss: 15.1608 - val_acc: 0.0480\n",
      "Epoch 13/100\n",
      "3562/3562 [==============================] - 7s 2ms/sample - loss: 0.1687 - acc: 0.9391 - val_loss: 15.1722 - val_acc: 0.0446\n",
      "Epoch 14/100\n",
      "3562/3562 [==============================] - 7s 2ms/sample - loss: 0.1625 - acc: 0.9464 - val_loss: 15.1540 - val_acc: 0.0530\n",
      "Epoch 15/100\n",
      "3562/3562 [==============================] - 7s 2ms/sample - loss: 0.0779 - acc: 0.9789 - val_loss: 15.1681 - val_acc: 0.0497\n",
      "Epoch 16/100\n",
      "3562/3562 [==============================] - 7s 2ms/sample - loss: 0.0563 - acc: 0.9843 - val_loss: 15.1590 - val_acc: 0.0522\n",
      "Epoch 17/100\n",
      "3562/3562 [==============================] - 7s 2ms/sample - loss: 0.0858 - acc: 0.9730 - val_loss: 15.2528 - val_acc: 0.0404\n",
      "Epoch 18/100\n",
      "3562/3562 [==============================] - 7s 2ms/sample - loss: 0.1495 - acc: 0.9531 - val_loss: 15.1651 - val_acc: 0.0497\n",
      "Epoch 19/100\n",
      "3562/3562 [==============================] - 7s 2ms/sample - loss: 0.0837 - acc: 0.9773 - val_loss: 15.1756 - val_acc: 0.0471\n",
      "Epoch 20/100\n",
      "3562/3562 [==============================] - 7s 2ms/sample - loss: 0.0524 - acc: 0.9882 - val_loss: 15.1877 - val_acc: 0.0463\n",
      "Epoch 21/100\n",
      "3562/3562 [==============================] - 7s 2ms/sample - loss: 0.0566 - acc: 0.9862 - val_loss: 15.2176 - val_acc: 0.0446\n",
      "Epoch 22/100\n",
      "3562/3562 [==============================] - 7s 2ms/sample - loss: 0.0379 - acc: 0.9916 - val_loss: 15.2089 - val_acc: 0.0471\n",
      "Epoch 23/100\n",
      "3562/3562 [==============================] - 7s 2ms/sample - loss: 0.0279 - acc: 0.9966 - val_loss: 15.2001 - val_acc: 0.0497\n",
      "Epoch 24/100\n",
      "3562/3562 [==============================] - 7s 2ms/sample - loss: 0.0306 - acc: 0.9938 - val_loss: 15.2195 - val_acc: 0.0488\n",
      "Epoch 25/100\n",
      "3562/3562 [==============================] - 7s 2ms/sample - loss: 0.0325 - acc: 0.9933 - val_loss: 15.2344 - val_acc: 0.0488\n",
      "Epoch 26/100\n",
      "3562/3562 [==============================] - 7s 2ms/sample - loss: 0.0670 - acc: 0.9818 - val_loss: 15.2412 - val_acc: 0.0471\n",
      "Epoch 27/100\n",
      "3562/3562 [==============================] - 8s 2ms/sample - loss: 0.0277 - acc: 0.9944 - val_loss: 15.1942 - val_acc: 0.0505\n",
      "Epoch 28/100\n",
      "3562/3562 [==============================] - 7s 2ms/sample - loss: 0.0514 - acc: 0.9860 - val_loss: 15.2210 - val_acc: 0.0463\n",
      "Epoch 29/100\n",
      "3562/3562 [==============================] - 8s 2ms/sample - loss: 0.0635 - acc: 0.9840 - val_loss: 15.2361 - val_acc: 0.0446\n",
      "Epoch 30/100\n",
      "3562/3562 [==============================] - 8s 2ms/sample - loss: 0.0363 - acc: 0.9902 - val_loss: 15.2277 - val_acc: 0.0471\n",
      "Epoch 31/100\n",
      "3562/3562 [==============================] - 8s 2ms/sample - loss: 0.1016 - acc: 0.9725 - val_loss: 15.2409 - val_acc: 0.0446\n",
      "Epoch 32/100\n",
      "3562/3562 [==============================] - 8s 2ms/sample - loss: 0.0126 - acc: 0.9986 - val_loss: 15.2206 - val_acc: 0.0488\n",
      "Epoch 33/100\n",
      "3562/3562 [==============================] - 7s 2ms/sample - loss: 0.0076 - acc: 0.9997 - val_loss: 15.2373 - val_acc: 0.0463\n",
      "Epoch 34/100\n",
      "3562/3562 [==============================] - 7s 2ms/sample - loss: 0.0059 - acc: 0.9997 - val_loss: 15.2310 - val_acc: 0.0480\n",
      "Epoch 35/100\n",
      "3562/3562 [==============================] - 7s 2ms/sample - loss: 0.0055 - acc: 0.9997 - val_loss: 15.2335 - val_acc: 0.0471\n",
      "Epoch 36/100\n",
      "3562/3562 [==============================] - 7s 2ms/sample - loss: 0.0053 - acc: 0.9997 - val_loss: 15.2363 - val_acc: 0.0471\n",
      "Epoch 37/100\n",
      "3562/3562 [==============================] - 7s 2ms/sample - loss: 0.0051 - acc: 0.9997 - val_loss: 15.2351 - val_acc: 0.0488\n",
      "Epoch 38/100\n",
      "3562/3562 [==============================] - 7s 2ms/sample - loss: 0.0050 - acc: 0.9997 - val_loss: 15.2372 - val_acc: 0.0471\n",
      "Epoch 39/100\n",
      "3562/3562 [==============================] - 7s 2ms/sample - loss: 0.0050 - acc: 0.9997 - val_loss: 15.2375 - val_acc: 0.0471\n",
      "Epoch 40/100\n",
      " 160/3562 [>.............................] - ETA: 5s - loss: 3.4125e-04 - acc: 1.0000"
     ]
    }
   ],
   "source": [
    "model.fit(x_train, y_train, epochs=100, shuffle=True, validation_split=0.25)"
   ]
  },
  {
   "cell_type": "code",
   "execution_count": null,
   "metadata": {},
   "outputs": [],
   "source": [
    "model.evaluate(x_train,y_train)"
   ]
  },
  {
   "cell_type": "code",
   "execution_count": null,
   "metadata": {},
   "outputs": [],
   "source": [
    "predictions = model.predict(x_train)"
   ]
  },
  {
   "cell_type": "code",
   "execution_count": null,
   "metadata": {},
   "outputs": [],
   "source": [
    "plt.figure(figsize=(10,10))\n",
    "for i in range(25):\n",
    "    plt.subplot(5,5,i+1)\n",
    "    plt.xticks([])\n",
    "    plt.yticks([])\n",
    "    plt.grid(False)\n",
    "    plt.imshow(x_train[i], cmap=plt.cm.binary)\n",
    "    plt.xlabel(np.argmax(predictions[i]))\n",
    "plt.show()"
   ]
  },
  {
   "cell_type": "code",
   "execution_count": null,
   "metadata": {},
   "outputs": [],
   "source": []
  }
 ],
 "metadata": {
  "kernelspec": {
   "display_name": "Python 3",
   "language": "python",
   "name": "python3"
  },
  "language_info": {
   "codemirror_mode": {
    "name": "ipython",
    "version": 3
   },
   "file_extension": ".py",
   "mimetype": "text/x-python",
   "name": "python",
   "nbconvert_exporter": "python",
   "pygments_lexer": "ipython3",
   "version": "3.7.1"
  }
 },
 "nbformat": 4,
 "nbformat_minor": 2
}
